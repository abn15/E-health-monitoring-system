{
  "cells": [
    {
      "cell_type": "markdown",
      "metadata": {
        "id": "view-in-github",
        "colab_type": "text"
      },
      "source": [
        "<a href=\"https://colab.research.google.com/github/abn15/E-health-monitoring-system/blob/main/bandpass_notch.ipynb\" target=\"_parent\"><img src=\"https://colab.research.google.com/assets/colab-badge.svg\" alt=\"Open In Colab\"/></a>"
      ]
    },
    {
      "cell_type": "code",
      "execution_count": null,
      "metadata": {
        "colab": {
          "base_uri": "https://localhost:8080/"
        },
        "id": "XEixH015teaz",
        "outputId": "58a71681-643f-4855-cc5d-9e8c7ba221dd"
      },
      "outputs": [
        {
          "output_type": "stream",
          "name": "stdout",
          "text": [
            "Collecting pyEDFlib\n",
            "  Downloading pyEDFlib-0.1.33-cp310-cp310-manylinux_2_17_x86_64.manylinux2014_x86_64.whl (2.9 MB)\n",
            "\u001b[?25l     \u001b[90m━━━━━━━━━━━━━━━━━━━━━━━━━━━━━━━━━━━━━━━━\u001b[0m \u001b[32m0.0/2.9 MB\u001b[0m \u001b[31m?\u001b[0m eta \u001b[36m-:--:--\u001b[0m\r\u001b[2K     \u001b[91m━━━━━━━━━━━━━━━━━━━━━━━━━━━━━━━━━━━━━━━\u001b[0m\u001b[91m╸\u001b[0m \u001b[32m2.9/2.9 MB\u001b[0m \u001b[31m125.7 MB/s\u001b[0m eta \u001b[36m0:00:01\u001b[0m\r\u001b[2K     \u001b[90m━━━━━━━━━━━━━━━━━━━━━━━━━━━━━━━━━━━━━━━━\u001b[0m \u001b[32m2.9/2.9 MB\u001b[0m \u001b[31m59.1 MB/s\u001b[0m eta \u001b[36m0:00:00\u001b[0m\n",
            "\u001b[?25hRequirement already satisfied: numpy>=1.9.1 in /usr/local/lib/python3.10/dist-packages (from pyEDFlib) (1.22.4)\n",
            "Installing collected packages: pyEDFlib\n",
            "Successfully installed pyEDFlib-0.1.33\n",
            "Requirement already satisfied: pandas in /usr/local/lib/python3.10/dist-packages (1.5.3)\n",
            "Requirement already satisfied: python-dateutil>=2.8.1 in /usr/local/lib/python3.10/dist-packages (from pandas) (2.8.2)\n",
            "Requirement already satisfied: pytz>=2020.1 in /usr/local/lib/python3.10/dist-packages (from pandas) (2022.7.1)\n",
            "Requirement already satisfied: numpy>=1.21.0 in /usr/local/lib/python3.10/dist-packages (from pandas) (1.22.4)\n",
            "Requirement already satisfied: six>=1.5 in /usr/local/lib/python3.10/dist-packages (from python-dateutil>=2.8.1->pandas) (1.16.0)\n"
          ]
        }
      ],
      "source": [
        "!pip install pyEDFlib\n",
        "!pip install pandas"
      ]
    },
    {
      "cell_type": "code",
      "execution_count": null,
      "metadata": {
        "colab": {
          "base_uri": "https://localhost:8080/"
        },
        "id": "gdeYeBJIosB2",
        "outputId": "ecbeb7c1-7edb-42b8-c66d-e15694a31be8"
      },
      "outputs": [
        {
          "output_type": "stream",
          "name": "stdout",
          "text": [
            "Collecting mne\n",
            "  Downloading mne-1.4.2-py3-none-any.whl (7.7 MB)\n",
            "\u001b[?25l     \u001b[90m━━━━━━━━━━━━━━━━━━━━━━━━━━━━━━━━━━━━━━━━\u001b[0m \u001b[32m0.0/7.7 MB\u001b[0m \u001b[31m?\u001b[0m eta \u001b[36m-:--:--\u001b[0m\r\u001b[2K     \u001b[91m━━━━━━━━━━━━━━━━\u001b[0m\u001b[90m╺\u001b[0m\u001b[90m━━━━━━━━━━━━━━━━━━━━━━━\u001b[0m \u001b[32m3.1/7.7 MB\u001b[0m \u001b[31m118.2 MB/s\u001b[0m eta \u001b[36m0:00:01\u001b[0m\r\u001b[2K     \u001b[91m━━━━━━━━━━━━━━━━\u001b[0m\u001b[90m╺\u001b[0m\u001b[90m━━━━━━━━━━━━━━━━━━━━━━━\u001b[0m \u001b[32m3.1/7.7 MB\u001b[0m \u001b[31m118.2 MB/s\u001b[0m eta \u001b[36m0:00:01\u001b[0m\r\u001b[2K     \u001b[91m━━━━━━━━━━━━━━━━\u001b[0m\u001b[90m╺\u001b[0m\u001b[90m━━━━━━━━━━━━━━━━━━━━━━━\u001b[0m \u001b[32m3.1/7.7 MB\u001b[0m \u001b[31m118.2 MB/s\u001b[0m eta \u001b[36m0:00:01\u001b[0m\r\u001b[2K     \u001b[91m━━━━━━━━━━━━━━━━━━━━━━━━━━━━━━━━━━━━━━━\u001b[0m\u001b[91m╸\u001b[0m \u001b[32m7.7/7.7 MB\u001b[0m \u001b[31m57.8 MB/s\u001b[0m eta \u001b[36m0:00:01\u001b[0m\r\u001b[2K     \u001b[90m━━━━━━━━━━━━━━━━━━━━━━━━━━━━━━━━━━━━━━━━\u001b[0m \u001b[32m7.7/7.7 MB\u001b[0m \u001b[31m44.2 MB/s\u001b[0m eta \u001b[36m0:00:00\u001b[0m\n",
            "\u001b[?25hRequirement already satisfied: numpy>=1.15.4 in /usr/local/lib/python3.10/dist-packages (from mne) (1.22.4)\n",
            "Requirement already satisfied: scipy>=1.6.3 in /usr/local/lib/python3.10/dist-packages (from mne) (1.10.1)\n",
            "Requirement already satisfied: matplotlib>=3.4.0 in /usr/local/lib/python3.10/dist-packages (from mne) (3.7.1)\n",
            "Requirement already satisfied: tqdm in /usr/local/lib/python3.10/dist-packages (from mne) (4.65.0)\n",
            "Requirement already satisfied: pooch>=1.5 in /usr/local/lib/python3.10/dist-packages (from mne) (1.6.0)\n",
            "Requirement already satisfied: decorator in /usr/local/lib/python3.10/dist-packages (from mne) (4.4.2)\n",
            "Requirement already satisfied: packaging in /usr/local/lib/python3.10/dist-packages (from mne) (23.1)\n",
            "Requirement already satisfied: jinja2 in /usr/local/lib/python3.10/dist-packages (from mne) (3.1.2)\n",
            "Requirement already satisfied: contourpy>=1.0.1 in /usr/local/lib/python3.10/dist-packages (from matplotlib>=3.4.0->mne) (1.1.0)\n",
            "Requirement already satisfied: cycler>=0.10 in /usr/local/lib/python3.10/dist-packages (from matplotlib>=3.4.0->mne) (0.11.0)\n",
            "Requirement already satisfied: fonttools>=4.22.0 in /usr/local/lib/python3.10/dist-packages (from matplotlib>=3.4.0->mne) (4.40.0)\n",
            "Requirement already satisfied: kiwisolver>=1.0.1 in /usr/local/lib/python3.10/dist-packages (from matplotlib>=3.4.0->mne) (1.4.4)\n",
            "Requirement already satisfied: pillow>=6.2.0 in /usr/local/lib/python3.10/dist-packages (from matplotlib>=3.4.0->mne) (8.4.0)\n",
            "Requirement already satisfied: pyparsing>=2.3.1 in /usr/local/lib/python3.10/dist-packages (from matplotlib>=3.4.0->mne) (3.1.0)\n",
            "Requirement already satisfied: python-dateutil>=2.7 in /usr/local/lib/python3.10/dist-packages (from matplotlib>=3.4.0->mne) (2.8.2)\n",
            "Requirement already satisfied: appdirs>=1.3.0 in /usr/local/lib/python3.10/dist-packages (from pooch>=1.5->mne) (1.4.4)\n",
            "Requirement already satisfied: requests>=2.19.0 in /usr/local/lib/python3.10/dist-packages (from pooch>=1.5->mne) (2.27.1)\n",
            "Requirement already satisfied: MarkupSafe>=2.0 in /usr/local/lib/python3.10/dist-packages (from jinja2->mne) (2.1.3)\n",
            "Requirement already satisfied: six>=1.5 in /usr/local/lib/python3.10/dist-packages (from python-dateutil>=2.7->matplotlib>=3.4.0->mne) (1.16.0)\n",
            "Requirement already satisfied: urllib3<1.27,>=1.21.1 in /usr/local/lib/python3.10/dist-packages (from requests>=2.19.0->pooch>=1.5->mne) (1.26.16)\n",
            "Requirement already satisfied: certifi>=2017.4.17 in /usr/local/lib/python3.10/dist-packages (from requests>=2.19.0->pooch>=1.5->mne) (2023.5.7)\n",
            "Requirement already satisfied: charset-normalizer~=2.0.0 in /usr/local/lib/python3.10/dist-packages (from requests>=2.19.0->pooch>=1.5->mne) (2.0.12)\n",
            "Requirement already satisfied: idna<4,>=2.5 in /usr/local/lib/python3.10/dist-packages (from requests>=2.19.0->pooch>=1.5->mne) (3.4)\n",
            "Installing collected packages: mne\n",
            "Successfully installed mne-1.4.2\n",
            "Requirement already satisfied: pywavelets in /usr/local/lib/python3.10/dist-packages (1.4.1)\n",
            "Requirement already satisfied: numpy>=1.17.3 in /usr/local/lib/python3.10/dist-packages (from pywavelets) (1.22.4)\n"
          ]
        }
      ],
      "source": [
        "!pip install -U mne\n",
        "!pip install pywavelets"
      ]
    },
    {
      "cell_type": "code",
      "execution_count": null,
      "metadata": {
        "colab": {
          "base_uri": "https://localhost:8080/",
          "height": 235
        },
        "id": "aDtM0HnmtNrE",
        "outputId": "7ef62b5a-6dd1-4d59-f4c8-78dd733f8a02"
      },
      "outputs": [
        {
          "output_type": "error",
          "ename": "AttributeError",
          "evalue": "ignored",
          "traceback": [
            "\u001b[0;31m---------------------------------------------------------------------------\u001b[0m",
            "\u001b[0;31mAttributeError\u001b[0m                            Traceback (most recent call last)",
            "\u001b[0;32m<ipython-input-12-d089a27a10ca>\u001b[0m in \u001b[0;36m<cell line: 58>\u001b[0;34m()\u001b[0m\n\u001b[1;32m     56\u001b[0m \u001b[0moutput_file\u001b[0m \u001b[0;34m=\u001b[0m \u001b[0;34m's01_preprocessed.xlsx'\u001b[0m\u001b[0;34m\u001b[0m\u001b[0;34m\u001b[0m\u001b[0m\n\u001b[1;32m     57\u001b[0m \u001b[0;31m#writer = pd.ExcelWriter(output_file, engine='xlsxwriter')\u001b[0m\u001b[0;34m\u001b[0m\u001b[0;34m\u001b[0m\u001b[0m\n\u001b[0;32m---> 58\u001b[0;31m \u001b[0mnew_dfs\u001b[0m\u001b[0;34m.\u001b[0m\u001b[0mto_excel\u001b[0m\u001b[0;34m(\u001b[0m\u001b[0moutput_file\u001b[0m\u001b[0;34m,\u001b[0m\u001b[0mindex\u001b[0m\u001b[0;34m=\u001b[0m\u001b[0;32mFalse\u001b[0m\u001b[0;34m)\u001b[0m\u001b[0;34m\u001b[0m\u001b[0;34m\u001b[0m\u001b[0m\n\u001b[0m\u001b[1;32m     59\u001b[0m '''\n\u001b[1;32m     60\u001b[0m \u001b[0;32mfor\u001b[0m \u001b[0mi\u001b[0m\u001b[0;34m,\u001b[0m \u001b[0mdata\u001b[0m \u001b[0;32min\u001b[0m \u001b[0menumerate\u001b[0m\u001b[0;34m(\u001b[0m\u001b[0mnew_dfs\u001b[0m\u001b[0;34m)\u001b[0m\u001b[0;34m:\u001b[0m\u001b[0;34m\u001b[0m\u001b[0;34m\u001b[0m\u001b[0m\n",
            "\u001b[0;31mAttributeError\u001b[0m: 'list' object has no attribute 'to_excel'"
          ]
        }
      ],
      "source": [
        "import mne\n",
        "import pywt\n",
        "import pyedflib\n",
        "import numpy as np\n",
        "import pandas as pd\n",
        "from scipy.signal import butter, filtfilt, savgol_filter\n",
        "\n",
        "def apply_bandpass_filter(data, lowcut, highcut, fs, order=4):\n",
        "    nyquist = 0.5 * fs\n",
        "    low = lowcut / nyquist\n",
        "    high = highcut / nyquist\n",
        "    b, a = butter(order, [low, high], btype='band')\n",
        "    filtered_data = filtfilt(b, a, data)\n",
        "    return filtered_data\n",
        "\n",
        "def apply_notch_filter(data, freq, fs, Q=30):\n",
        "    nyquist = 0.5 * fs\n",
        "    notch = freq / nyquist\n",
        "    b, a = butter(2, [notch - 1 / Q, notch + 1 / Q], btype='bandstop')\n",
        "    filtered_data = filtfilt(b, a, data)\n",
        "    return filtered_data\n",
        "\n",
        "edf_file = pyedflib.EdfReader('/content/s01.edf')\n",
        "\n",
        "num_channels = edf_file.signals_in_file\n",
        "channel_data = [edf_file.readSignal(i) for i in range(num_channels)]\n",
        "\n",
        "fs = edf_file.getSampleFrequency(0)\n",
        "\n",
        "start_time = 0\n",
        "end_time = 60\n",
        "start_sample = int(start_time * fs)\n",
        "end_sample = int(end_time * fs)\n",
        "channel_data = [channel[start_sample:end_sample] for channel in channel_data]\n",
        "\n",
        "modified_data = []\n",
        "for channel_index in range(num_channels):\n",
        "    data = channel_data[channel_index]\n",
        "\n",
        "    filtered_data = apply_bandpass_filter(data, 0.1, 70, fs)\n",
        "\n",
        "    filtered_data = apply_notch_filter(filtered_data, 50, fs)\n",
        "\n",
        "    modified_data.append(filtered_data)\n",
        "\n",
        "edf_file.close()\n",
        "\n",
        "new=[]\n",
        "new=savgol_filter(modified_data,31,2)\n",
        "\n",
        "combined=[]\n",
        "for channel in new:\n",
        "    combined =[combined channel]\n",
        "\n",
        "'''\n",
        "new=np.array(new)\n",
        "#new_dfs = [pd.DataFrame(data, columns=[f'preprocessed data of channel {i+1}']) for i, data in enumerate(new)]\n",
        "new_dfs=[pd.DataFrame(data)]\n",
        "output_file = 's01_preprocessed.xlsx'\n",
        "#writer = pd.ExcelWriter(output_file, engine='xlsxwriter')\n",
        "new_dfs.to_excel(output_file,index=False)\n",
        "'''\n",
        "for i, data in enumerate(new_dfs):\n",
        "    data.to_excel(writer, sheet_name=f'preprocessed data of channel {i+1}',columns =i+1, index=False)\n",
        "\n",
        "    writer.save()\n",
        "\n",
        "#print(\"Modified Data :\\n\",new)\n",
        "decomposition_level = 5\n",
        "wavelet = 'sym9'\n",
        "\n",
        "# Apply the DWT decomposition to each EEG channel\n",
        "processed_data=[]\n",
        "for channel in channel_data:\n",
        "    coeffs = pywt.wavedec(channel, wavelet, level=decomposition_level)\n",
        "\n",
        "    # Perform processing on the coefficients (e.g., denoising, feature extraction)\n",
        "\n",
        "    # Reconstruct the channel using the inverse DWT\n",
        "    reconstructed_channel = pywt.waverec(coeffs, wavelet)\n",
        "\n",
        "    processed_data.append(reconstructed_channel)\n",
        "    approximation_coeffs = coeffs[0]\n",
        "    detail_coeffs = coeffs[1:]\n",
        "\n",
        "# Print the approximation and detail coefficients\n",
        "    print(\"Approximation Coefficients:\")\n",
        "    print(approximation_coeffs)\n",
        "    print()\n",
        "\n",
        "    print(\"Detail Coefficients:\")\n",
        "    for level, detail_coeff in enumerate(detail_coeffs, start=1):\n",
        "        print(f\"Level {level}:\")\n",
        "        print(detail_coeff)\n",
        "        print()\n",
        "    approximation_df = pd.DataFrame(approximation_coeffs, columns=['Approximation Coefficients'])\n",
        "    detail_dfs = [pd.DataFrame(detail_coeff, columns=[f'Detail Coefficients Level {i+1}']) for i, detail_coeff in enumerate(detail_coeffs)]\n",
        "\n",
        "    output_file = 'coefficients.xlsx'\n",
        "    writer = pd.ExcelWriter(output_file, engine='xlsxwriter')\n",
        "\n",
        "    approximation_df.to_excel(writer, sheet_name='Approximation Coefficients', index=False)\n",
        "    for i, detail_df in enumerate(detail_dfs):\n",
        "        detail_df.to_excel(writer, sheet_name=f'Detail Coefficients Level {i+1}', index=False)\n",
        "\n",
        "    writer.save()\n",
        "# Convert the processed data back to a numpy array\n",
        "processed_data = np.array(processed_data)\n",
        "\n",
        "#print('Processed EEG Data:', processed_data)\n",
        "time = np.arange(start_time, end_time, 1 / fs)\n",
        "\n",
        "plt.figure(figsize=(20, 30))\n",
        "for channel_index in range(num_channels):\n",
        "    plt.subplot(num_channels, 1, channel_index+1)\n",
        "    plt.plot(time, channel_data[channel_index], label='Original')\n",
        "    plt.plot(time, new[channel_index], label='savgol')\n",
        "    plt.plot(time, modified_data[channel_index], label='modified')\n",
        "    #plt.plot(time,processed_data[channel_index],label='DWT')\n",
        "    plt.title('Channel {}'.format(channel_index+1))\n",
        "    plt.xlabel('Time')\n",
        "    plt.ylabel('Signal')\n",
        "    plt.legend()\n",
        "\n",
        "plt.tight_layout()\n",
        "plt.show()'''"
      ]
    },
    {
      "cell_type": "code",
      "execution_count": null,
      "metadata": {
        "id": "CDymkayH1VSf",
        "colab": {
          "base_uri": "https://localhost:8080/"
        },
        "outputId": "dd824374-eee0-4f2d-f03b-06f46d32454b"
      },
      "outputs": [
        {
          "output_type": "stream",
          "name": "stdout",
          "text": [
            "Collecting xlsxwriter\n",
            "  Downloading XlsxWriter-3.1.2-py3-none-any.whl (153 kB)\n",
            "\u001b[?25l     \u001b[90m━━━━━━━━━━━━━━━━━━━━━━━━━━━━━━━━━━━━━━━━\u001b[0m \u001b[32m0.0/153.0 kB\u001b[0m \u001b[31m?\u001b[0m eta \u001b[36m-:--:--\u001b[0m\r\u001b[2K     \u001b[90m━━━━━━━━━━━━━━━━━━━━━━━━━━━━━━━━━━━━━━\u001b[0m \u001b[32m153.0/153.0 kB\u001b[0m \u001b[31m12.9 MB/s\u001b[0m eta \u001b[36m0:00:00\u001b[0m\n",
            "\u001b[?25hInstalling collected packages: xlsxwriter\n",
            "Successfully installed xlsxwriter-3.1.2\n"
          ]
        }
      ],
      "source": [
        "!pip install xlsxwriter"
      ]
    },
    {
      "cell_type": "code",
      "execution_count": null,
      "metadata": {
        "id": "1E_41QvM1VIL"
      },
      "outputs": [],
      "source": []
    }
  ],
  "metadata": {
    "colab": {
      "provenance": [],
      "include_colab_link": true
    },
    "kernelspec": {
      "display_name": "Python 3",
      "name": "python3"
    },
    "language_info": {
      "name": "python"
    }
  },
  "nbformat": 4,
  "nbformat_minor": 0
}